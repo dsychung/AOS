{
 "cells": [
  {
   "cell_type": "markdown",
   "metadata": {},
   "source": [
    "# Pickup List with shipping - 2021/11/27"
   ]
  },
  {
   "cell_type": "code",
   "execution_count": 1,
   "metadata": {},
   "outputs": [
    {
     "name": "stderr",
     "output_type": "stream",
     "text": [
      "c:\\Users\\User\\AppData\\Local\\Programs\\Python\\Python310\\lib\\site-packages\\IPython\\core\\interactiveshell.py:3457: DtypeWarning: Columns (41,87,89) have mixed types.Specify dtype option on import or set low_memory=False.\n",
      "  exec(code_obj, self.user_global_ns, self.user_ns)\n"
     ]
    }
   ],
   "source": [
    "import pandas as pd\n",
    "import numpy as np \n",
    "\n",
    "df1 = pd.read_csv('source/Cin7-Stock-27-11-2023.txt') \n",
    "df2 = pd.read_csv('source/OrdersExport-27-11-2023.csv', parse_dates = ['Created Date'], dtype={'Delivery Postal Code': str, 'Billing Postal Code': str, 'Sales Rep':str, 'Tracking Code': str, 'Carrier':str, 'Surcharge Description': str,'Cancellation Date':str}) \n",
    "\n",
    "#fix20201104 adding SOH\n",
    "product_list = df1[['Code','Name','StockAvail','SOH','AOSInternational-Brisbane','AOSInternational-Melbourne','AOSInternational-GoldCoast','AOSInternational-Sydney']]\n",
    "order_list = df2[['Created Date','Email','Order Id','Order Ref','Item Code', 'Item Qty', 'Branch','Freight Description','Phone','First Name','Last Name','Item Row Format']]\n",
    "\n",
    "df_merge = order_list.merge(product_list, left_on='Item Code', right_on='Code').sort_values(by=['Order Id'])\n",
    "\n",
    "#df_merge.head(10)\n",
    "#print(df_merge)\n",
    "#df_merge"
   ]
  },
  {
   "cell_type": "code",
   "execution_count": 2,
   "metadata": {},
   "outputs": [],
   "source": [
    "def fixOrderDate(df):\n",
    "    created_datetime = pd.to_datetime(df['Created Date'])\n",
    "    df['created_datetime'] = created_datetime\n",
    "    \n",
    "fixOrderDate(df_merge)    "
   ]
  },
  {
   "cell_type": "code",
   "execution_count": 3,
   "metadata": {},
   "outputs": [],
   "source": [
    "#Export to CSV\n",
    "def export_to_file(df,fname):\n",
    "    df.to_csv('output/'+fname+'.csv', mode='w', columns=['Created Date','Order Ref','First Name','Last Name','Email','Phone','Freight Description','Branch','Custom Email','Email List','OrderedProduct'], index = False, encoding='utf-8')\n",
    "\n",
    "def export_to_excel_file(df,fname):\n",
    "    df.to_excel('output/'+fname+'.xlsx', columns=['Created Date','Order Ref','First Name','Last Name','Email','Phone','Freight Description','Branch','Custom Email','Email List','OrderedProduct'], index = False, header=['_CreatedDate','_OrderRef','_FirstName','_LastName','_Email','_Phone','_FreightDescription','_Branch','_CustomEmail','_EmailList','_OrderedProduct'])   \n",
    "    \n",
    "#fix20201104 adding SOH    \n",
    "def export_to_file_debug(df,fname):\n",
    "    df.to_csv('output/'+fname+'.csv', mode='w', columns=['Created Date','Order Ref','OrderedProduct','First Name','Last Name','Email','Phone','Freight Description','Branch','Code','SOH','StockAvail', 'Item Qty','CurrentAvail','AOSInternational-Brisbane','AOSInternational-Melbourne','AOSInternational-GoldCoast','AOSInternational-Sydney'], index = False)\n",
    "\n",
    "#added 11/16/2021    \n",
    "def export_to_file_debug_excel(df,fname):\n",
    "    df.to_excel('output/'+fname+'.xlsx', columns=['Created Date','Order Ref','OrderedProduct','First Name','Last Name','Email','Phone','Freight Description','Branch','Code','SOH','StockAvail', 'Item Qty','CurrentAvail','AOSInternational-Brisbane','AOSInternational-Melbourne','AOSInternational-GoldCoast','AOSInternational-Sydney','Item Row Format','CurrentAvail'], index = False)\n",
    "    \n",
    "#added 20210112\n",
    "def export_to_excel_debug(df,fname):\n",
    "    df.to_excel('output/'+fname+'.xlsx', columns=['Created Date','Order Ref','OrderedProduct','Code','Name','First Name','Last Name','Email','Phone','Freight Description','Branch','SOH','StockAvail', 'Item Qty','CurrentAvail','AOSInternational-Brisbane','AOSInternational-Melbourne','AOSInternational-GoldCoast','AOSInternational-Sydney'], index = False)\n",
    "\n",
    "    \n",
    "#added 20201113 adding extra export list  \n",
    "def hide_email(ename, edomain):\n",
    "    return ename.str[:-3] +'***@'+ edomain\n",
    "\n",
    "#added 20201113 adding extra export list    \n",
    "def export_to_file_for_customer(df,fname,storename):\n",
    "    email_part1 = df['Email'].str.split('@').str[0]\n",
    "    email_part2 = df['Email'].str.split('@').str[1]\n",
    "    modified_email = hide_email(email_part1, email_part2)\n",
    "    \n",
    "    modified_phone = df['Phone'].str.replace(' ','').str[:-6]+'******'\n",
    "    \n",
    "    df['Your Email'] = modified_email\n",
    "    df['Your Phone'] = modified_phone\n",
    "    \n",
    "    df['Your Pickup Store'] = storename  \n",
    "      \n",
    "    df.to_csv('output/'+fname+'.csv', mode='w', columns=['Created Date','Order Ref','Your Email','Your Phone','Your Pickup Store','Branch'], index = False, header=['Ordered Date','Order Ref','Your Email','Your Phone','Your Pickup Store','Ordered Branch'])\n",
    "      \n"
   ]
  },
  {
   "cell_type": "code",
   "execution_count": 4,
   "metadata": {},
   "outputs": [
    {
     "data": {
      "text/plain": [
       "13171"
      ]
     },
     "execution_count": 4,
     "metadata": {},
     "output_type": "execute_result"
    }
   ],
   "source": [
    "#drop ItemRowFormat = Parent, these are combo items that does not exist\n",
    "#df_merge = df_merge['Item Row Format'] != 'Parent'\n",
    "indexNames = df_merge[ df_merge['Item Row Format'] == 'Parent' ].index\n",
    "df_merge.drop(indexNames , inplace=True)\n",
    "\n",
    "\n",
    "len(df_merge)"
   ]
  },
  {
   "cell_type": "code",
   "execution_count": 5,
   "metadata": {},
   "outputs": [
    {
     "data": {
      "text/plain": [
       "10233"
      ]
     },
     "execution_count": 5,
     "metadata": {},
     "output_type": "execute_result"
    }
   ],
   "source": [
    "#STEP1\n",
    "#modified 20211116 a full list with shipping and pickups\n",
    "#old list: pick_up_list = [\"BNE Pickup\",\"Gold Coast Pickup(下單後下週四取貨)\",\"MEL Pickup\",\"SYD Pickup\"]\n",
    "\n",
    "all_list = [\"BNE Pickup\",\"Gold Coast Pickup(下單後下週四取貨)\",\"MEL Pickup\",\"SYD Pickup\",\"Free Shipping - No Frozen Food\",\"Free Shipping - Frozen Food - BNE Designated Area\",\"Free Shipping - Frozen Food - Gold Coast Designated Area\",\"Free Shipping - Special Item\",\"Seekit Shipping - No Frozen Food\",\"Seekit Shipping - Frozen Food - BNE Designated Area\",\"Seekit Shipping - Frozen Food - Gold Coast Designated Area\",\"Seekit Shipping - No Frozen Food\",\"Seekit Shipping - Frozen Food - MEL Designated Area\",\"Free Shipping - No Frozen Food\",\"Free Shipping - Special Item\",\"Free Shipping - Frozen Food - MEL Designated Area\",\"Seekit Shipping - No Frozen Food\",\"Seekit Shipping - Frozen Food - SYD Designated Area\",\"Free Shipping - No Frozen Food\",\"Free Shipping - Special Item\",\"Free Shipping - Frozen Food - SYD Designated Area\"]\n",
    "\n",
    "for index, row in df_merge.iterrows():\n",
    "    if row['Freight Description'] not in all_list:    \n",
    "        df_merge = df_merge[df_merge['Order Id'] != row['Order Id']]\n",
    "\n",
    "len(df_merge)\n",
    "\n",
    "#df_merge.loc[df_merge['Order Ref'] == 'Bri17291']"
   ]
  },
  {
   "cell_type": "code",
   "execution_count": 6,
   "metadata": {},
   "outputs": [],
   "source": [
    "#CURRENT SHIPPINGS\n",
    "# BRIS\n",
    "# Free Shipping - No Frozen Food'\n",
    "# Free Shipping - Frozen Food - BNE Designated Area\n",
    "# Free Shipping - Special Item\n",
    "# Seekit Shipping - No Frozen Food\n",
    "# Seekit Shipping - Frozen Food - BNE Designated Area\n",
    "# GOL\n",
    "# Free Shipping - Frozen Food - Gold Coast Designated Area\n",
    "# Seekit Shipping - Frozen Food - Gold Coast Designated Area\n",
    "# MEL\n",
    "# Seekit Shipping - No Frozen Food\n",
    "# Seekit Shipping - Frozen Food - MEL Designated Area\n",
    "# Free Shipping - No Frozen Food\n",
    "# Free Shipping - Special Item\n",
    "# Free Shipping - Frozen Food - MEL Designated Area\n",
    "# SYD\n",
    "# Seekit Shipping - No Frozen Food\n",
    "# Seekit Shipping - Frozen Food - SYD Designated Area\n",
    "# Free Shipping - No Frozen Food\n",
    "# Free Shipping - Special Item\n",
    "# Free Shipping - Frozen Food - SYD Designated Area"
   ]
  },
  {
   "cell_type": "code",
   "execution_count": 7,
   "metadata": {},
   "outputs": [
    {
     "data": {
      "text/plain": [
       "3345"
      ]
     },
     "execution_count": 7,
     "metadata": {},
     "output_type": "execute_result"
    }
   ],
   "source": [
    "#Create new df's according to each branch\n",
    "#Select multiple conditions >>> df[\"A\"][(df[\"B\"] > 50) & (df[\"C\"] == 900)]\n",
    "\n",
    "#BRIS df\n",
    "df_bris=pd.DataFrame()\n",
    "#append all pickup orders\n",
    "df_bris = df_bris.append(df_merge[(df_merge['Branch'] == 'AOS International - Brisbane, QLD') & (df_merge['Freight Description'] == 'BNE Pickup')])\n",
    "#all all shipping orders\n",
    "df_bris = df_bris.append(df_merge[(df_merge['Branch'] == 'AOS International - Brisbane, QLD') & ((df_merge['Freight Description'] == 'Free Shipping - No Frozen Food') | (df_merge['Freight Description'] == 'Free Shipping - Frozen Food - BNE Designated Area') | (df_merge['Freight Description'] == 'Free Shipping - Special Item') | (df_merge['Freight Description'] == 'Seekit Shipping - No Frozen Food') | (df_merge['Freight Description'] == 'Seekit Shipping - Frozen Food - BNE Designated Area'))])\n",
    "\n",
    "#list out all shipping orders\n",
    "#len(df_merge.loc[(df_merge['Branch'] == 'AOS International - Brisbane, QLD') & ((df_merge['Freight Description'] == 'Free Shipping - No Frozen Food') | (df_merge['Freight Description'] == 'Free Shipping - Frozen Food - BNE Designated Area') | (df_merge['Freight Description'] == 'Free Shipping - Special Item') | (df_merge['Freight Description'] == 'Seekit Shipping - No Frozen Food') | (df_merge['Freight Description'] == 'Seekit Shipping - Frozen Food - BNE Designated Area'))])\n",
    "len(df_bris)"
   ]
  },
  {
   "cell_type": "code",
   "execution_count": 8,
   "metadata": {},
   "outputs": [
    {
     "data": {
      "text/plain": [
       "4176"
      ]
     },
     "execution_count": 8,
     "metadata": {},
     "output_type": "execute_result"
    }
   ],
   "source": [
    "#MEL df\n",
    "df_mel=pd.DataFrame()\n",
    "#append all pickup orders\n",
    "df_mel = df_mel.append(df_merge[(df_merge['Branch'] == 'AOS International - Melbourne, VIC') & (df_merge['Freight Description'] == 'MEL Pickup')])\n",
    "#all all shipping orders\n",
    "df_mel = df_mel.append(df_merge[(df_merge['Branch'] == 'AOS International - Melbourne, VIC') & ((df_merge['Freight Description'] == 'Seekit Shipping - No Frozen Food') | (df_merge['Freight Description'] == 'Seekit Shipping - Frozen Food - MEL Designated Area') | (df_merge['Freight Description'] == 'Free Shipping - No Frozen Food') | (df_merge['Freight Description'] == 'Free Shipping - Special Item') | (df_merge['Freight Description'] == 'Free Shipping - Frozen Food - MEL Designated Area'))])\n",
    "\n",
    "len(df_mel)"
   ]
  },
  {
   "cell_type": "code",
   "execution_count": 9,
   "metadata": {},
   "outputs": [
    {
     "data": {
      "text/plain": [
       "0"
      ]
     },
     "execution_count": 9,
     "metadata": {},
     "output_type": "execute_result"
    }
   ],
   "source": [
    "#GOL df\n",
    "df_gold=pd.DataFrame()\n",
    "#note: branch = brisbane\n",
    "#append all pickup orders\n",
    "df_gold = df_gold.append(df_merge[(df_merge['Branch'] == 'AOS International - Brisbane, QLD') & (df_merge['Freight Description'] == 'Gold Coast Pickup(下單後下週四取貨)')])\n",
    "#all all shipping orders\n",
    "df_gold = df_gold.append(df_merge[(df_merge['Branch'] == 'AOS International - Brisbane, QLD') & ((df_merge['Freight Description'] == 'Free Shipping - Frozen Food - Gold Coast Designated Area') | (df_merge['Freight Description'] == 'Seekit Shipping - Frozen Food - Gold Coast Designated Area'))])\n",
    "\n",
    "len(df_gold)"
   ]
  },
  {
   "cell_type": "code",
   "execution_count": 10,
   "metadata": {},
   "outputs": [
    {
     "data": {
      "text/plain": [
       "2689"
      ]
     },
     "execution_count": 10,
     "metadata": {},
     "output_type": "execute_result"
    }
   ],
   "source": [
    "#SYD df\n",
    "df_syd=pd.DataFrame()\n",
    "#append all pickup orders\n",
    "df_syd = df_syd.append(df_merge[(df_merge['Branch'] == 'AOS International - Sydney, NSW') & (df_merge['Freight Description'] == 'SYD Pickup')])\n",
    "#all all shipping orders\n",
    "df_syd = df_syd.append(df_merge[(df_merge['Branch'] == 'AOS International - Sydney, NSW') & ((df_merge['Freight Description'] == 'Seekit Shipping - No Frozen Food') | (df_merge['Freight Description'] == 'Seekit Shipping - Frozen Food - SYD Designated Area') | (df_merge['Freight Description'] == 'Free Shipping - No Frozen Food') | (df_merge['Freight Description'] == 'Free Shipping - Special Item') | (df_merge['Freight Description'] == 'Free Shipping - Frozen Food - SYD Designated Area') )])\n",
    "\n",
    "len(df_syd)"
   ]
  },
  {
   "cell_type": "code",
   "execution_count": 11,
   "metadata": {},
   "outputs": [
    {
     "data": {
      "text/plain": [
       "2689"
      ]
     },
     "execution_count": 11,
     "metadata": {},
     "output_type": "execute_result"
    }
   ],
   "source": [
    "#fix20201104 add this function\n",
    "def sort_data2(df):\n",
    "    newdf = df.sort_values(['created_datetime'], ascending=True)\n",
    "    return newdf\n",
    "\n",
    "\n",
    "#fix20201104 fix sorting   \n",
    "df_bris = sort_data2(df_bris)\n",
    "df_gold = sort_data2(df_gold)\n",
    "df_mel = sort_data2(df_mel)\n",
    "df_syd = sort_data2(df_syd)\n",
    "\n",
    "len(df_bris)\n",
    "len(df_syd)\n",
    "len(df_mel)\n",
    "len(df_syd)"
   ]
  },
  {
   "cell_type": "code",
   "execution_count": 12,
   "metadata": {},
   "outputs": [
    {
     "data": {
      "text/plain": [
       "2689"
      ]
     },
     "execution_count": 12,
     "metadata": {},
     "output_type": "execute_result"
    }
   ],
   "source": [
    "import math\n",
    "def calculate_local_stock(df, stock_location):\n",
    "    d = {} #a compare list \n",
    "    df['CurrentAvail'] = ''\n",
    "    for index, row in df.iterrows():  \n",
    "        if row['Code'] in d.keys():        \n",
    "            #print('had before')\n",
    "            #print(d[row['Code']])\n",
    "            #print(math.isnan(d[row['Code']]))\n",
    "            #print(row['Item Qty'])\n",
    "            df.at[index, 'CurrentAvail'] = d[row['Code']]-row['Item Qty']\n",
    "            d[row['Code']] = d[row['Code']]-row['Item Qty']\n",
    "        else:\n",
    "            #print('new prod')\n",
    "            #print(d)\n",
    "            current_available = float(row[stock_location]-row['Item Qty'])\n",
    "            df.at[index, 'CurrentAvail'] = current_available\n",
    "\n",
    "            #add a new code to dictionary comparelist\n",
    "            prod_code = row['Code']\n",
    "            d[prod_code.format(index)] = current_available    \n",
    "    \n",
    "    return df\n",
    "    \n",
    "df_mel = calculate_local_stock(df_mel, 'AOSInternational-Melbourne')    \n",
    "df_bris = calculate_local_stock(df_bris, 'AOSInternational-Brisbane')  \n",
    "df_gold = calculate_local_stock(df_gold, 'AOSInternational-GoldCoast')  \n",
    "df_syd = calculate_local_stock(df_syd, 'AOSInternational-Sydney') \n",
    "len(df_mel)\n",
    "len(df_bris)\n",
    "len(df_gold)\n",
    "len(df_syd)"
   ]
  },
  {
   "cell_type": "code",
   "execution_count": 13,
   "metadata": {},
   "outputs": [
    {
     "data": {
      "text/plain": [
       "376"
      ]
     },
     "execution_count": 13,
     "metadata": {},
     "output_type": "execute_result"
    }
   ],
   "source": [
    "def remove_no_stock(df):\n",
    "    for index, row in df.iterrows():\n",
    "        row['CurrentAvail']\n",
    "        if row['CurrentAvail'] < 0 or np.isnan(row['CurrentAvail']):    \n",
    "           \n",
    "            #key fix !!!!! remove all order ref found in this if statement\n",
    "            indexNames = df[ df['Order Ref'] == row['Order Ref'] ].index\n",
    "            df.drop(indexNames , inplace=True) \n",
    "            \n",
    "    return df\n",
    "    \n",
    "df_mel = remove_no_stock(df_mel)    \n",
    "df_bris = remove_no_stock(df_bris) \n",
    "df_gold = remove_no_stock(df_gold) \n",
    "df_syd = remove_no_stock(df_syd) \n",
    "len(df_mel)\n",
    "len(df_bris)\n",
    "len(df_gold)\n",
    "len(df_syd)"
   ]
  },
  {
   "cell_type": "code",
   "execution_count": 14,
   "metadata": {},
   "outputs": [
    {
     "name": "stdout",
     "output_type": "stream",
     "text": [
      "making order list\n",
      "finished making order list\n"
     ]
    }
   ],
   "source": [
    "#modified 20210112\n",
    "\n",
    "def makeOrderList(df):\n",
    "    df['OrderedProduct']=''\n",
    "    for index, row in df.iterrows():\n",
    "        df_tmp_mel = pd.DataFrame()\n",
    "        df_tmp_mel = df.loc[df['Order Ref'] == row['Order Ref']]\n",
    "\n",
    "        orderd_product = \"\"\n",
    "        for index, row in df_tmp_mel.iterrows():    \n",
    "            orderd_product += row['Name'] + '/' \n",
    "\n",
    "        df.at[df['Order Ref'] == row['Order Ref'], 'OrderedProduct'] = orderd_product #todo :change to something faster\n",
    "\n",
    "print('making order list')\n",
    "makeOrderList(df_bris)\n",
    "makeOrderList(df_mel)\n",
    "makeOrderList(df_gold)\n",
    "makeOrderList(df_syd)\n",
    "print('finished making order list')   \n"
   ]
  },
  {
   "cell_type": "code",
   "execution_count": 15,
   "metadata": {},
   "outputs": [
    {
     "data": {
      "text/plain": [
       "662"
      ]
     },
     "execution_count": 15,
     "metadata": {},
     "output_type": "execute_result"
    }
   ],
   "source": [
    "#STEP6 Get only unique Orders\n",
    "def make_unique_orders(df):\n",
    "    df = df.drop_duplicates(subset =\"Order Id\")\n",
    "    return df\n",
    "    \n",
    "df_mel = make_unique_orders(df_mel)    \n",
    "df_bris = make_unique_orders(df_bris) \n",
    "df_gold = make_unique_orders(df_gold) \n",
    "df_syd = make_unique_orders(df_syd)    \n",
    "\n",
    "#print_result(df_gold, 'AOSInternational-GoldCoast')\n",
    "len(df_mel)"
   ]
  },
  {
   "cell_type": "code",
   "execution_count": 16,
   "metadata": {},
   "outputs": [
    {
     "name": "stderr",
     "output_type": "stream",
     "text": [
      "C:\\Users\\User\\AppData\\Local\\Temp/ipykernel_54016/356108332.py:19: FutureWarning: The default value of regex will change from True to False in a future version. In addition, single character regular expressions will *not* be treated as literal strings when regex=True.\n",
      "  df['Phone'] = df['Phone'].str.replace('+', '')\n"
     ]
    }
   ],
   "source": [
    "#added1113 make sending email list\n",
    "def make_sending_email_list(df):\n",
    "    emailList = df['Email'].str.cat(sep=',')\n",
    "    #print(emailList)\n",
    "    df.at[0, 'Email List'] = emailList\n",
    "\n",
    "#added1113 make custom email content\n",
    "def make_custom_content(df):\n",
    "    for index, row in df.iterrows():    \n",
    "        custom_email = '''Hi {0} \n",
    "        Your Order: {1}, made on {2} is Now Ready for Pick Up at {3}. \n",
    "        Order Items: {4}        \n",
    "        If you have any enquires, kindly contact us at: info@aosint.com.au'''\n",
    "        #assign value \n",
    "        df.at[index, 'Custom Email']= custom_email.format(row['First Name'], row['Order Ref'], row['Created Date'], row['Branch'], row['OrderedProduct'])        \n",
    "\n",
    "#added20211015 fix telephone format\n",
    "def fix_telephone_format(df):\n",
    "    df['Phone'] = df['Phone'].str.replace('+', '')\n",
    "    #print(df['Phone'])\n",
    "        \n",
    "make_custom_content(df_bris)\n",
    "make_custom_content(df_mel)\n",
    "make_custom_content(df_gold)\n",
    "make_custom_content(df_syd)\n",
    "make_sending_email_list(df_bris)\n",
    "make_sending_email_list(df_mel)\n",
    "make_sending_email_list(df_gold)\n",
    "make_sending_email_list(df_syd)\n",
    "fix_telephone_format(df_bris)\n",
    "fix_telephone_format(df_mel)\n",
    "fix_telephone_format(df_gold)\n",
    "fix_telephone_format(df_syd)"
   ]
  },
  {
   "cell_type": "code",
   "execution_count": 18,
   "metadata": {},
   "outputs": [
    {
     "ename": "KeyError",
     "evalue": "\"Not all names specified in 'columns' are found\"",
     "output_type": "error",
     "traceback": [
      "\u001b[1;31m---------------------------------------------------------------------------\u001b[0m",
      "\u001b[1;31mKeyError\u001b[0m                                  Traceback (most recent call last)",
      "\u001b[1;32m~\\AppData\\Local\\Temp/ipykernel_54016/3609552789.py\u001b[0m in \u001b[0;36m<module>\u001b[1;34m\u001b[0m\n\u001b[0;32m      3\u001b[0m \u001b[0mexport_to_excel_file\u001b[0m\u001b[1;33m(\u001b[0m\u001b[0mdf_bris\u001b[0m\u001b[1;33m,\u001b[0m\u001b[1;34m'output_bris_0110'\u001b[0m\u001b[1;33m)\u001b[0m\u001b[1;33m\u001b[0m\u001b[1;33m\u001b[0m\u001b[0m\n\u001b[0;32m      4\u001b[0m \u001b[0mexport_to_excel_file\u001b[0m\u001b[1;33m(\u001b[0m\u001b[0mdf_syd\u001b[0m\u001b[1;33m,\u001b[0m\u001b[1;34m'output_syd_010'\u001b[0m\u001b[1;33m)\u001b[0m\u001b[1;33m\u001b[0m\u001b[1;33m\u001b[0m\u001b[0m\n\u001b[1;32m----> 5\u001b[1;33m \u001b[0mexport_to_excel_file\u001b[0m\u001b[1;33m(\u001b[0m\u001b[0mdf_gold\u001b[0m\u001b[1;33m,\u001b[0m\u001b[1;34m'output_gold_0110'\u001b[0m\u001b[1;33m)\u001b[0m\u001b[1;33m\u001b[0m\u001b[1;33m\u001b[0m\u001b[0m\n\u001b[0m",
      "\u001b[1;32m~\\AppData\\Local\\Temp/ipykernel_54016/1538198125.py\u001b[0m in \u001b[0;36mexport_to_excel_file\u001b[1;34m(df, fname)\u001b[0m\n\u001b[0;32m      4\u001b[0m \u001b[1;33m\u001b[0m\u001b[0m\n\u001b[0;32m      5\u001b[0m \u001b[1;32mdef\u001b[0m \u001b[0mexport_to_excel_file\u001b[0m\u001b[1;33m(\u001b[0m\u001b[0mdf\u001b[0m\u001b[1;33m,\u001b[0m\u001b[0mfname\u001b[0m\u001b[1;33m)\u001b[0m\u001b[1;33m:\u001b[0m\u001b[1;33m\u001b[0m\u001b[1;33m\u001b[0m\u001b[0m\n\u001b[1;32m----> 6\u001b[1;33m     \u001b[0mdf\u001b[0m\u001b[1;33m.\u001b[0m\u001b[0mto_excel\u001b[0m\u001b[1;33m(\u001b[0m\u001b[1;34m'output/'\u001b[0m\u001b[1;33m+\u001b[0m\u001b[0mfname\u001b[0m\u001b[1;33m+\u001b[0m\u001b[1;34m'.xlsx'\u001b[0m\u001b[1;33m,\u001b[0m \u001b[0mcolumns\u001b[0m\u001b[1;33m=\u001b[0m\u001b[1;33m[\u001b[0m\u001b[1;34m'Created Date'\u001b[0m\u001b[1;33m,\u001b[0m\u001b[1;34m'Order Ref'\u001b[0m\u001b[1;33m,\u001b[0m\u001b[1;34m'First Name'\u001b[0m\u001b[1;33m,\u001b[0m\u001b[1;34m'Last Name'\u001b[0m\u001b[1;33m,\u001b[0m\u001b[1;34m'Email'\u001b[0m\u001b[1;33m,\u001b[0m\u001b[1;34m'Phone'\u001b[0m\u001b[1;33m,\u001b[0m\u001b[1;34m'Freight Description'\u001b[0m\u001b[1;33m,\u001b[0m\u001b[1;34m'Branch'\u001b[0m\u001b[1;33m,\u001b[0m\u001b[1;34m'Custom Email'\u001b[0m\u001b[1;33m,\u001b[0m\u001b[1;34m'Email List'\u001b[0m\u001b[1;33m,\u001b[0m\u001b[1;34m'OrderedProduct'\u001b[0m\u001b[1;33m]\u001b[0m\u001b[1;33m,\u001b[0m \u001b[0mindex\u001b[0m \u001b[1;33m=\u001b[0m \u001b[1;32mFalse\u001b[0m\u001b[1;33m,\u001b[0m \u001b[0mheader\u001b[0m\u001b[1;33m=\u001b[0m\u001b[1;33m[\u001b[0m\u001b[1;34m'_CreatedDate'\u001b[0m\u001b[1;33m,\u001b[0m\u001b[1;34m'_OrderRef'\u001b[0m\u001b[1;33m,\u001b[0m\u001b[1;34m'_FirstName'\u001b[0m\u001b[1;33m,\u001b[0m\u001b[1;34m'_LastName'\u001b[0m\u001b[1;33m,\u001b[0m\u001b[1;34m'_Email'\u001b[0m\u001b[1;33m,\u001b[0m\u001b[1;34m'_Phone'\u001b[0m\u001b[1;33m,\u001b[0m\u001b[1;34m'_FreightDescription'\u001b[0m\u001b[1;33m,\u001b[0m\u001b[1;34m'_Branch'\u001b[0m\u001b[1;33m,\u001b[0m\u001b[1;34m'_CustomEmail'\u001b[0m\u001b[1;33m,\u001b[0m\u001b[1;34m'_EmailList'\u001b[0m\u001b[1;33m,\u001b[0m\u001b[1;34m'_OrderedProduct'\u001b[0m\u001b[1;33m]\u001b[0m\u001b[1;33m)\u001b[0m\u001b[1;33m\u001b[0m\u001b[1;33m\u001b[0m\u001b[0m\n\u001b[0m\u001b[0;32m      7\u001b[0m \u001b[1;33m\u001b[0m\u001b[0m\n\u001b[0;32m      8\u001b[0m \u001b[1;31m#fix20201104 adding SOH\u001b[0m\u001b[1;33m\u001b[0m\u001b[1;33m\u001b[0m\u001b[0m\n",
      "\u001b[1;32mc:\\Users\\User\\AppData\\Local\\Programs\\Python\\Python310\\lib\\site-packages\\pandas\\core\\generic.py\u001b[0m in \u001b[0;36mto_excel\u001b[1;34m(self, excel_writer, sheet_name, na_rep, float_format, columns, header, index, index_label, startrow, startcol, engine, merge_cells, encoding, inf_rep, verbose, freeze_panes, storage_options)\u001b[0m\n\u001b[0;32m   2271\u001b[0m         \u001b[1;32mfrom\u001b[0m \u001b[0mpandas\u001b[0m\u001b[1;33m.\u001b[0m\u001b[0mio\u001b[0m\u001b[1;33m.\u001b[0m\u001b[0mformats\u001b[0m\u001b[1;33m.\u001b[0m\u001b[0mexcel\u001b[0m \u001b[1;32mimport\u001b[0m \u001b[0mExcelFormatter\u001b[0m\u001b[1;33m\u001b[0m\u001b[1;33m\u001b[0m\u001b[0m\n\u001b[0;32m   2272\u001b[0m \u001b[1;33m\u001b[0m\u001b[0m\n\u001b[1;32m-> 2273\u001b[1;33m         formatter = ExcelFormatter(\n\u001b[0m\u001b[0;32m   2274\u001b[0m             \u001b[0mdf\u001b[0m\u001b[1;33m,\u001b[0m\u001b[1;33m\u001b[0m\u001b[1;33m\u001b[0m\u001b[0m\n\u001b[0;32m   2275\u001b[0m             \u001b[0mna_rep\u001b[0m\u001b[1;33m=\u001b[0m\u001b[0mna_rep\u001b[0m\u001b[1;33m,\u001b[0m\u001b[1;33m\u001b[0m\u001b[1;33m\u001b[0m\u001b[0m\n",
      "\u001b[1;32mc:\\Users\\User\\AppData\\Local\\Programs\\Python\\Python310\\lib\\site-packages\\pandas\\io\\formats\\excel.py\u001b[0m in \u001b[0;36m__init__\u001b[1;34m(self, df, na_rep, float_format, cols, header, index, index_label, merge_cells, inf_rep, style_converter)\u001b[0m\n\u001b[0;32m    488\u001b[0m             \u001b[1;32mif\u001b[0m \u001b[0mlen\u001b[0m\u001b[1;33m(\u001b[0m\u001b[0mIndex\u001b[0m\u001b[1;33m(\u001b[0m\u001b[0mcols\u001b[0m\u001b[1;33m)\u001b[0m\u001b[1;33m.\u001b[0m\u001b[0mintersection\u001b[0m\u001b[1;33m(\u001b[0m\u001b[0mdf\u001b[0m\u001b[1;33m.\u001b[0m\u001b[0mcolumns\u001b[0m\u001b[1;33m)\u001b[0m\u001b[1;33m)\u001b[0m \u001b[1;33m!=\u001b[0m \u001b[0mlen\u001b[0m\u001b[1;33m(\u001b[0m\u001b[0mset\u001b[0m\u001b[1;33m(\u001b[0m\u001b[0mcols\u001b[0m\u001b[1;33m)\u001b[0m\u001b[1;33m)\u001b[0m\u001b[1;33m:\u001b[0m\u001b[1;33m\u001b[0m\u001b[1;33m\u001b[0m\u001b[0m\n\u001b[0;32m    489\u001b[0m                 \u001b[1;31m# Deprecated in GH#17295, enforced in 1.0.0\u001b[0m\u001b[1;33m\u001b[0m\u001b[1;33m\u001b[0m\u001b[0m\n\u001b[1;32m--> 490\u001b[1;33m                 \u001b[1;32mraise\u001b[0m \u001b[0mKeyError\u001b[0m\u001b[1;33m(\u001b[0m\u001b[1;34m\"Not all names specified in 'columns' are found\"\u001b[0m\u001b[1;33m)\u001b[0m\u001b[1;33m\u001b[0m\u001b[1;33m\u001b[0m\u001b[0m\n\u001b[0m\u001b[0;32m    491\u001b[0m \u001b[1;33m\u001b[0m\u001b[0m\n\u001b[0;32m    492\u001b[0m             \u001b[0mself\u001b[0m\u001b[1;33m.\u001b[0m\u001b[0mdf\u001b[0m \u001b[1;33m=\u001b[0m \u001b[0mdf\u001b[0m\u001b[1;33m.\u001b[0m\u001b[0mreindex\u001b[0m\u001b[1;33m(\u001b[0m\u001b[0mcolumns\u001b[0m\u001b[1;33m=\u001b[0m\u001b[0mcols\u001b[0m\u001b[1;33m)\u001b[0m\u001b[1;33m\u001b[0m\u001b[1;33m\u001b[0m\u001b[0m\n",
      "\u001b[1;31mKeyError\u001b[0m: \"Not all names specified in 'columns' are found\""
     ]
    }
   ],
   "source": [
    "#export for internal use\n",
    "export_to_excel_file(df_mel,'output_mel_0110')  \n",
    "export_to_excel_file(df_bris,'output_bris_0110')  \n",
    "export_to_excel_file(df_syd,'output_syd_010')  \n",
    "export_to_excel_file(df_gold,'output_gold_0110')  \n"
   ]
  },
  {
   "cell_type": "code",
   "execution_count": null,
   "metadata": {},
   "outputs": [],
   "source": [
    "#added 20201113 export for customers\n",
    "# export_to_file_for_customer(df_bris,'output_bris_customer_v1', 'Seekit Brisbane')\n",
    "# export_to_file_for_customer(df_mel,'output_mel_customer_v1', 'Seekit Melbourne')\n",
    "# export_to_file_for_customer(df_gold,'output_gold_customer_v1', 'Seekit Goldcost')\n",
    "# export_to_file_for_customer(df_syd,'output_sdy_customer_v1', 'Seekit Sydney')"
   ]
  },
  {
   "cell_type": "code",
   "execution_count": null,
   "metadata": {},
   "outputs": [],
   "source": []
  }
 ],
 "metadata": {
  "kernelspec": {
   "display_name": "Python 3.10.0 64-bit",
   "language": "python",
   "name": "python3"
  },
  "language_info": {
   "codemirror_mode": {
    "name": "ipython",
    "version": 3
   },
   "file_extension": ".py",
   "mimetype": "text/x-python",
   "name": "python",
   "nbconvert_exporter": "python",
   "pygments_lexer": "ipython3",
   "version": "3.10.0"
  },
  "vscode": {
   "interpreter": {
    "hash": "afb734500600fd355917ca529030176ea0ca205570884b88f2f6f7d791fd3fbe"
   }
  }
 },
 "nbformat": 4,
 "nbformat_minor": 2
}
